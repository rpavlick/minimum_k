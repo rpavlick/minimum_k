{
 "cells": [
  {
   "cell_type": "code",
   "execution_count": 108,
   "metadata": {},
   "outputs": [],
   "source": [
    "import scipy\n",
    "\n",
    "def negative_binomial(k, n, p):\n",
    "    \"\"\"Probability of the n-th success on the k-th Bernoulli trial.\n",
    "\n",
    "    Args:\n",
    "        k (int): total number of trials\n",
    "        n (int): number of successes\n",
    "        p (float): probability of success\n",
    "\n",
    "    Returns:\n",
    "        (float): probability of the n-th success occurring on the k-th trial\n",
    "    \"\"\"\n",
    "    assert n >= 1, \"n must be a positive integer\"\n",
    "    assert type(n) == int, \"n must a positive integer\"\n",
    "    assert k >= 0, \"k must be an integer greater than or equal to zero\"\n",
    "    assert type(n) == int, \"k must be an integer greater than or equal to zero\"\n",
    "    assert 0 < p <= 1, \"p must be greater than 0 and less than or equal to 1\"\n",
    "    return scipy.special.comb( k-1, n-1, exact=True ) * p**n * (1-p)**(k-n)\n",
    "\n",
    "def find_min_k(n, p, c):\n",
    "    \"\"\"Minimum number of Bernoulli trials required to expect at least n successes with at least probability c\"\n",
    "    \n",
    "    Args:\n",
    "        n (int): desired number of successes\n",
    "        p (float): independent probability of success for each trial\n",
    "        c (float): desired probability of at least n successes\n",
    "\n",
    "\n",
    "    Returns:\n",
    "        (int): minimum number of trials (k) needed\n",
    "        (float): probability of at least n successes after k trials\n",
    "    \"\"\"\n",
    "    assert n >= 1, \"n must be a positive integer\"\n",
    "    assert type(n) == int, \"n must a positive integer\"\n",
    "    assert 0 < p <= 1, \"p must be greater than 0 and less than or equal to 1\"\n",
    "    assert 0 < c < 1, \"c must be betweeen 0 and 1\"\n",
    "    prob_of_n_successes = 0.0\n",
    "    k = n\n",
    "    while prob_of_n_successes < c:\n",
    "      x = negative_binomial(k, n, p)\n",
    "      prob_of_n_successes += negative_binomial(k, n, p) \n",
    "      if prob_of_n_successes >= c:\n",
    "            return k, prob_of_n_successes\n",
    "      k+=1"
   ]
  },
  {
   "cell_type": "code",
   "execution_count": 120,
   "metadata": {
    "inputHidden": false,
    "outputHidden": false
   },
   "outputs": [
    {
     "data": {
      "image/png": "[encoded data removed]",
      "text/plain": [
       "<Figure size 432x288 with 1 Axes>"
      ]
     },
     "metadata": {
      "needs_background": "light"
     },
     "output_type": "display_data"
    }
   ],
   "source": [
    "import matplotlib.pyplot as plt\n",
    "\n",
    "c = 0.5\n",
    "p = 0.6\n",
    "n = 10\n",
    "\n",
    "k, pstar = find_min_k(n,p,c)\n",
    "\n",
    "n_tries = [ i for i in range(n,k+10) ]\n",
    "prob_of_n_tries = list(map( negative_binomial, n_tries, [n]*len(n_tries), [p]*len(n_tries) ))\n",
    "plt.hlines(c, n, k+10)\n",
    "plt.scatter( n_tries, scipy.cumsum(prob_of_n_tries) )\n",
    "plt.scatter( k, pstar, facecolor='red', marker=(5, 1), s=160)\n",
    "plt.title(\"Probability of \" + str(n)  + \" Successes in K or Fewer Trials\")\n",
    "plt.xlabel(\"Cumulative Trials\")\n",
    "plt.ylabel(\"Probability\")\n",
    "plt.show()\n"
   ]
  }
 ],
 "metadata": {
  "kernelspec": {
   "display_name": "Python 3",
   "language": "python",
   "name": "python3"
  },
  "language_info": {
   "codemirror_mode": {
    "name": "ipython",
    "version": 3
   },
   "file_extension": ".py",
   "mimetype": "text/x-python",
   "name": "python",
   "nbconvert_exporter": "python",
   "pygments_lexer": "ipython3",
   "version": "3.7.0"
  },
  "nteract": {
   "version": "nteract-on-jupyter@1.9.15"
  }
 },
 "nbformat": 4,
 "nbformat_minor": 2
}
